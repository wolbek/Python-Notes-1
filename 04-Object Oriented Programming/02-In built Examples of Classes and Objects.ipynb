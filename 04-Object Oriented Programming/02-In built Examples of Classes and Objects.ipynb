{
 "cells": [
  {
   "cell_type": "markdown",
   "id": "ae6fa793-8fe3-46f6-b27c-f4b1c15fac18",
   "metadata": {},
   "source": [
    "## In built Example of Classes & Objects"
   ]
  },
  {
   "cell_type": "markdown",
   "id": "091dc01a-c671-4ddc-ba7f-7182e67fd7d4",
   "metadata": {},
   "source": [
    "**Everything in Python is an object. An object is an instance of a class.**\n",
    "\n",
    "A custom function is an object of 'function' class.\\\n",
    "A custom class is an object of 'type' class.\n",
    "\n",
    "int, bool, float, is an object of 'type' class.\n",
    "\n",
    "\"1,2\" is an object of 'str' class. \\\n",
    "[1,2] is an object of 'list' class. \\\n",
    "(1,2) is an object of 'tuple' class. \\\n",
    "{1,2} is an object of 'set' class. \\\n",
    "{1:\"Aakash\",2:\"Dhruv\"} is an object of 'dict' class.\n",
    "\n",
    "str, list, tuple, set, dict are object of 'type' class"
   ]
  },
  {
   "cell_type": "code",
   "execution_count": 6,
   "id": "d6457153-b38e-4bc2-9288-adebcd42de3e",
   "metadata": {},
   "outputs": [
    {
     "name": "stdout",
     "output_type": "stream",
     "text": [
      "<class 'type'>\n",
      "<class 'type'>\n"
     ]
    }
   ],
   "source": [
    "print(type(int))\n",
    "print(type(bool))"
   ]
  },
  {
   "cell_type": "code",
   "execution_count": 14,
   "id": "af6fbaec-dcc6-48b1-98ee-0853a1957ba2",
   "metadata": {},
   "outputs": [
    {
     "name": "stdout",
     "output_type": "stream",
     "text": [
      "<class 'str'>\n",
      "<class 'list'>\n",
      "<class 'tuple'>\n",
      "<class 'set'>\n",
      "<class 'dict'>\n"
     ]
    }
   ],
   "source": [
    "st=\"1,2\"\n",
    "print(type(st))\n",
    "\n",
    "lst=[1,2]\n",
    "print(type(lst))\n",
    "\n",
    "tup=(1,2)\n",
    "print(type(tup))\n",
    "\n",
    "s={1,2}\n",
    "print(type(s))\n",
    "\n",
    "dic = {1:\"Aakash\",2:\"Dhruv\"}\n",
    "print(type(dic))"
   ]
  },
  {
   "cell_type": "code",
   "execution_count": 3,
   "id": "9e6f02b8-e36f-4354-9622-0a0c2b8e5027",
   "metadata": {},
   "outputs": [
    {
     "name": "stdout",
     "output_type": "stream",
     "text": [
      "<class 'function'>\n"
     ]
    }
   ],
   "source": [
    "def add_num(a,b):\n",
    "    return a+b\n",
    "\n",
    "print(type(add_num))"
   ]
  },
  {
   "cell_type": "code",
   "execution_count": 4,
   "id": "3940bb2f-79fa-4ed1-b45d-5ac94f5c2fe8",
   "metadata": {},
   "outputs": [
    {
     "name": "stdout",
     "output_type": "stream",
     "text": [
      "<class 'type'>\n"
     ]
    }
   ],
   "source": [
    "class Student:\n",
    "    pass\n",
    "\n",
    "print(type(Student))"
   ]
  },
  {
   "cell_type": "markdown",
   "id": "440a838b-5050-4c48-bcaf-843440a422a8",
   "metadata": {},
   "source": [
    "The Student class is of type 'type'. This means that in Python, class definitions themselves are objects, and they are instances of the built-in type class. The type class is responsible for creating and managing other classes."
   ]
  },
  {
   "cell_type": "code",
   "execution_count": null,
   "id": "69dc1a1a-e3e9-4e30-b5a6-c60961b7d5db",
   "metadata": {},
   "outputs": [],
   "source": []
  }
 ],
 "metadata": {
  "kernelspec": {
   "display_name": "Python 3 (ipykernel)",
   "language": "python",
   "name": "python3"
  },
  "language_info": {
   "codemirror_mode": {
    "name": "ipython",
    "version": 3
   },
   "file_extension": ".py",
   "mimetype": "text/x-python",
   "name": "python",
   "nbconvert_exporter": "python",
   "pygments_lexer": "ipython3",
   "version": "3.9.10"
  }
 },
 "nbformat": 4,
 "nbformat_minor": 5
}
