{
 "cells": [
  {
   "cell_type": "markdown",
   "id": "9e83cfcd-39e2-4a89-a4fb-c61a9e6018e6",
   "metadata": {},
   "source": [
    "This is your custom Jupyter notebook. You may add more if needed."
   ]
  },
  {
   "cell_type": "markdown",
   "id": "ec91e6b9-587e-4f2b-9345-2b601c7ef558",
   "metadata": {},
   "source": [
    "## To List"
   ]
  },
  {
   "cell_type": "code",
   "execution_count": 17,
   "id": "2e758084-d571-48f3-85cc-dd175201e7e0",
   "metadata": {},
   "outputs": [
    {
     "name": "stdout",
     "output_type": "stream",
     "text": [
      "[1, 2, 1]\n",
      "[1, 2]\n",
      "['1', '2', '1']\n"
     ]
    }
   ],
   "source": [
    "# To convert tuple/set/string to list.\n",
    "print(list((1,2,1)))\n",
    "print(list({1,2,1}))\n",
    "print(list(\"121\")) # The elements stored in the list will be string as well."
   ]
  },
  {
   "cell_type": "markdown",
   "id": "b757e3b4-6577-4eee-bcad-0246eeebe947",
   "metadata": {},
   "source": [
    "## To Tuple"
   ]
  },
  {
   "cell_type": "code",
   "execution_count": 18,
   "id": "09c7c62e-ec05-44a6-88bd-a8feea9774d4",
   "metadata": {},
   "outputs": [
    {
     "name": "stdout",
     "output_type": "stream",
     "text": [
      "(1, 2, 1)\n",
      "(1, 2)\n",
      "('1', '2', '1')\n"
     ]
    }
   ],
   "source": [
    "# To convert list/set/string to tuple. Sequence to Sequence. Not Mapping to sequence.\n",
    "print(tuple([1,2,1]))\n",
    "print(tuple({1,2,1}))\n",
    "print(tuple(\"121\")) # The elements stored in the tuple will be string as well."
   ]
  },
  {
   "cell_type": "markdown",
   "id": "ae13d21a-2489-42e4-96db-3260f5acc3ec",
   "metadata": {},
   "source": [
    "## To Set"
   ]
  },
  {
   "cell_type": "code",
   "execution_count": 19,
   "id": "fee0113e-b82e-4f7e-a4fb-df549fd6e611",
   "metadata": {},
   "outputs": [
    {
     "name": "stdout",
     "output_type": "stream",
     "text": [
      "{1, 2}\n",
      "{1, 2}\n",
      "{'1', '2'}\n"
     ]
    }
   ],
   "source": [
    "# To convert list/tuple/string to set.\n",
    "print(set([1,2,1]))\n",
    "print(set((1,2,1)))\n",
    "print(set(\"121\")) # The elements stored in the set will be string as well and will be unique."
   ]
  },
  {
   "cell_type": "markdown",
   "id": "97ae8482-613d-4af2-81da-abb9e7b9426b",
   "metadata": {},
   "source": [
    "## To String"
   ]
  },
  {
   "cell_type": "code",
   "execution_count": 7,
   "id": "d2cb39fb-3230-4597-be4f-01fe0d7f4f7d",
   "metadata": {},
   "outputs": [
    {
     "name": "stdout",
     "output_type": "stream",
     "text": [
      "1 2 3\n",
      "2 1 3\n",
      "1 2 3\n"
     ]
    }
   ],
   "source": [
    "# To convert list/tuple/set to string.\n",
    "# Use for loop and add each element to string\n",
    "\n",
    "# To convert list/tuple/set of strings to combined string.\n",
    "print(' '.join(['1','2','3']))\n",
    "print(' '.join({'1','2','3'}))\n",
    "print(' '.join(('1','2','3')))"
   ]
  },
  {
   "cell_type": "code",
   "execution_count": null,
   "id": "61617e1d-2935-4a50-9345-71c5c2205beb",
   "metadata": {},
   "outputs": [],
   "source": []
  }
 ],
 "metadata": {
  "kernelspec": {
   "display_name": "Python 3 (ipykernel)",
   "language": "python",
   "name": "python3"
  },
  "language_info": {
   "codemirror_mode": {
    "name": "ipython",
    "version": 3
   },
   "file_extension": ".py",
   "mimetype": "text/x-python",
   "name": "python",
   "nbconvert_exporter": "python",
   "pygments_lexer": "ipython3",
   "version": "3.9.10"
  }
 },
 "nbformat": 4,
 "nbformat_minor": 5
}
