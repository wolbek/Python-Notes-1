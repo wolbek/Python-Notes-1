{
 "cells": [
  {
   "cell_type": "markdown",
   "id": "d7d8ad09",
   "metadata": {},
   "source": [
    "**Does everything in python is passed by reference because everything is an object in python?**\n",
    "\n",
    "In Python, everything is passed by object reference, but it's important to clarify what this means:\n",
    "\n",
    "* Immutable Objects: Immutable objects like integers, strings, and tuples are indeed passed by object reference, but they behave in a way that appears as if they are passed by value. When you pass an immutable object to a function, you cannot modify the original object. Any operation that seems to modify the object creates a new object, leaving the original object unchanged.\n",
    "\n",
    "Immutable type object:\n",
    "* str\n",
    "* int\n",
    "* float\n",
    "* bool\n",
    "* bytes\n",
    "* tuple"
   ]
  },
  {
   "cell_type": "code",
   "execution_count": 1,
   "id": "77a47f4a",
   "metadata": {},
   "outputs": [],
   "source": [
    "def modify_string(s):\n",
    "    s = s + \" World\"  # Creates a new string, doesn't modify the original"
   ]
  },
  {
   "cell_type": "markdown",
   "id": "00e0337d",
   "metadata": {},
   "source": [
    "* Mutable Objects: Mutable objects like lists and dictionaries are passed by object reference as well, but you can modify the original object within the function because these objects can be changed in place.\n",
    "\n",
    "Mutable type object:\n",
    "* list\n",
    "* set\n",
    "* dict"
   ]
  },
  {
   "cell_type": "code",
   "execution_count": 2,
   "id": "0b75a008",
   "metadata": {},
   "outputs": [],
   "source": [
    "def modify_list(lst):\n",
    "    lst.append(42)  # Modifies the original list"
   ]
  },
  {
   "cell_type": "markdown",
   "id": "cbb20780",
   "metadata": {},
   "source": [
    "So, in Python, everything is passed by reference to a function. The key distinction is in whether the object can be modified in place within the function. Immutable objects behave as if they were passed by value, while mutable objects behave as if they were passed by reference."
   ]
  },
  {
   "cell_type": "code",
   "execution_count": null,
   "id": "ec50d7af",
   "metadata": {},
   "outputs": [],
   "source": []
  }
 ],
 "metadata": {
  "kernelspec": {
   "display_name": "Python 3 (ipykernel)",
   "language": "python",
   "name": "python3"
  },
  "language_info": {
   "codemirror_mode": {
    "name": "ipython",
    "version": 3
   },
   "file_extension": ".py",
   "mimetype": "text/x-python",
   "name": "python",
   "nbconvert_exporter": "python",
   "pygments_lexer": "ipython3",
   "version": "3.9.10"
  }
 },
 "nbformat": 4,
 "nbformat_minor": 5
}
