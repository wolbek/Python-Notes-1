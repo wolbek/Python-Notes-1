{
 "cells": [
  {
   "cell_type": "markdown",
   "id": "65a8bb86",
   "metadata": {},
   "source": [
    "In Python, following a consistent file naming convention is important for code organization, maintainability, and collaboration. There are several common naming conventions and guidelines used in the Python community. While the specific choice of convention may vary, adhering to one consistently within a project is key. Here are some common file naming conventions:\n",
    "\n",
    "**1) Snake Case (Preferred for Modules and Packages):**\n",
    "\n",
    "* Modules (i.e., Python files), packages, variables and functions should typically use snake case. This means using all lowercase letters with words separated by underscores.\n",
    "* Example: `my_module.py`, `my_package/`\n",
    "\n",
    "**2) Camel Case (Used for Classes):**\n",
    "\n",
    "* For Python class names, you can use CamelCase (also known as PascalCase). This convention capitalizes the first letter of each word and removes spaces or underscores.\n",
    "* Example: `MyClass`\n",
    "\n",
    "**3) All Uppercase (Constants):**\n",
    "\n",
    "* Constants should be named using all uppercase letters with words separated by underscores.\n",
    "* Example: `MY_CONSTANT`\n",
    "\n",
    "**4) Double Underscore (Dunder Methods):**\n",
    "\n",
    "* Double underscores are often used for special methods in Python.\n",
    "* Example: `__init__.py`,`__str__.py`\n",
    "\n",
    "**5) Single Underscore:**\n",
    "\n",
    "* A single leading underscore is used to indicate a protected attribute or protected method.\n",
    "* Example: `_my_function()`\n",
    "\n",
    "**5) Double Underscore:**\n",
    "\n",
    "* A double leading underscore is used to indicate a private attribute or private method.\n",
    "* Example: `__my_function()`"
   ]
  },
  {
   "cell_type": "markdown",
   "id": "b4e85cd3",
   "metadata": {},
   "source": [
    "### Some points to note:\n",
    "\n",
    "**1) Module Naming (Avoid Overlapping with Standard Library):**\n",
    "\n",
    "* When naming your Python modules, be mindful not to use names that conflict with standard library modules. It's recommended to choose unique and descriptive names.\n",
    "\n",
    "**2) Package Initialization File:**\n",
    "\n",
    "* For packages, it's a good practice to include an `__init__.py` file in the package directory to indicate that it's a Python package. This file can be empty or contain initialization code.\n",
    "\n",
    "**3) File Extensions:**\n",
    "\n",
    "* Python source code files have the `.py` extension. For scripts that should be executable, you can use the `.py` extension.\n",
    "\n",
    "**4) Project-Specific Conventions:**\n",
    "\n",
    "* For larger projects or within a development team, it's common to establish project-specific naming conventions or adhere to naming conventions set by the project's style guide.\n",
    "\n",
    "Choosing a naming convention and being consistent within your project is essential for code readability and collaboration. If you are contributing to an open-source project, it's a good practice to follow the project's existing conventions to maintain consistency."
   ]
  },
  {
   "cell_type": "code",
   "execution_count": null,
   "id": "c2f32b18",
   "metadata": {},
   "outputs": [],
   "source": []
  }
 ],
 "metadata": {
  "kernelspec": {
   "display_name": "Python 3 (ipykernel)",
   "language": "python",
   "name": "python3"
  },
  "language_info": {
   "codemirror_mode": {
    "name": "ipython",
    "version": 3
   },
   "file_extension": ".py",
   "mimetype": "text/x-python",
   "name": "python",
   "nbconvert_exporter": "python",
   "pygments_lexer": "ipython3",
   "version": "3.9.10"
  }
 },
 "nbformat": 4,
 "nbformat_minor": 5
}
